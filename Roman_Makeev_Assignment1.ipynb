{
  "cells": [
    {
      "cell_type": "markdown",
      "metadata": {
        "id": "DIgM6C9HYUhm"
      },
      "source": [
        "# Context-sensitive Spelling Correction\n",
        "\n",
        "The goal of the assignment is to implement context-sensitive spelling correction. The input of the code will be a set of text lines and the output will be the same lines with spelling mistakes fixed.\n",
        "\n",
        "Submit the solution of the assignment to Moodle as a link to your GitHub repository containing this notebook.\n",
        "\n",
        "Useful links:\n",
        "- [Norvig's solution](https://norvig.com/spell-correct.html)\n",
        "- [Norvig's dataset](https://norvig.com/big.txt)\n",
        "- [Ngrams data](https://www.ngrams.info/download_coca.asp)\n",
        "\n",
        "Grading:\n",
        "- 60 points - Implement spelling correction\n",
        "- 20 points - Justify your decisions\n",
        "- 20 points - Evaluate on a test set\n"
      ]
    },
    {
      "cell_type": "markdown",
      "metadata": {
        "id": "x-vb8yFOGRDF"
      },
      "source": [
        "## Implement context-sensitive spelling correction\n",
        "\n",
        "Your task is to implement context-sensitive spelling corrector using N-gram language model. The idea is to compute conditional probabilities of possible correction options. For example, the phrase \"dking sport\" should be fixed as \"doing sport\" not \"dying sport\", while \"dking species\" -- as \"dying species\".\n",
        "\n",
        "The best way to start is to analyze [Norvig's solution](https://norvig.com/spell-correct.html) and [N-gram Language Models](https://web.stanford.edu/~jurafsky/slp3/3.pdf).\n",
        "\n",
        "When solving this task, we expect you'll face (and successfully deal with) some problems or make up the ideas of the model improvement. Some of them are: \n",
        "\n",
        "- solving a problem of n-grams frequencies storing for a large corpus;\n",
        "- taking into account keyboard layout and associated misspellings;\n",
        "- efficiency improvement to make the solution faster;\n",
        "- ...\n",
        "\n",
        "Please don't forget to describe such cases, and what you decided to do with them, in the Justification section.\n",
        "\n",
        "##### IMPORTANT:  \n",
        "Your project should not be a mere code copy-paste from somewhere. You must provide:\n",
        "- Your implementation\n",
        "- Analysis of why the implemented approach is suggested\n",
        "- Improvements of the original approach that you have chosen to implement"
      ]
    },
    {
      "cell_type": "markdown",
      "metadata": {},
      "source": [
        "### Overview\n",
        "\n",
        "In this project, I implemented a context-sensitive spelling corrector that builds on Norvig’s spelling correction approach and enhances it with an n-gram language model. The corrector not only generates candidate corrections based on edit distance but also uses contextual information—by computing n-gram probabilities—to choose the most likely corrections within a sentence. This notebook details the steps taken, including corpus preparation, n-gram modeling, hyperparameter tuning, and finally, the context-sensitive beam search for spelling correction."
      ]
    },
    {
      "cell_type": "code",
      "execution_count": 1,
      "metadata": {},
      "outputs": [
        {
          "name": "stderr",
          "output_type": "stream",
          "text": [
            "[nltk_data] Downloading package brown to /usr/local/share/nltk_data...\n",
            "[nltk_data]   Package brown is already up-to-date!\n",
            "[nltk_data] Downloading package reuters to\n",
            "[nltk_data]     /usr/local/share/nltk_data...\n",
            "[nltk_data]   Package reuters is already up-to-date!\n",
            "[nltk_data] Downloading package gutenberg to\n",
            "[nltk_data]     /usr/local/share/nltk_data...\n",
            "[nltk_data]   Package gutenberg is already up-to-date!\n"
          ]
        }
      ],
      "source": [
        "import re\n",
        "import nltk\n",
        "import nltk\n",
        "nltk.download('brown')\n",
        "nltk.download('reuters')\n",
        "nltk.download('gutenberg')\n",
        "from nltk.corpus import brown, reuters, gutenberg\n",
        "from tqdm import tqdm\n",
        "import re\n",
        "from collections import defaultdict\n",
        "from tqdm import tqdm\n",
        "import re\n",
        "from collections import defaultdict, Counter\n",
        "import math\n",
        "import heapq\n",
        "from functools import lru_cache\n",
        "import re\n",
        "from collections import Counter\n",
        "import math\n",
        "import random\n",
        "import matplotlib.pyplot as plt"
      ]
    },
    {
      "cell_type": "markdown",
      "metadata": {},
      "source": [
        "### Data Preparation and Corpus Combination\n",
        "\n",
        "I download several standard corpora available via NLTK (Brown, Reuters, and Gutenberg). The steps include:\n",
        "\n",
        "- **Combining text** from all these sources to create a rich and diverse training dataset.\n",
        "- **Tokenizing** the training text to build a frequency-based dictionary (`WORDS`) that forms the basis for computing word probabilities.\n",
        "\n",
        "This extensive dataset helps in obtaining robust n-gram statistics for the next stage.\n"
      ]
    },
    {
      "cell_type": "code",
      "execution_count": 2,
      "metadata": {},
      "outputs": [],
      "source": [
        "def words(text):\n",
        "    return re.findall(r'\\w+', text.lower())\n",
        "\n",
        "brown_text = \" \".join(brown.words())\n",
        "reuters_text = \" \".join(reuters.words())\n",
        "gutenberg_text = \" \".join(gutenberg.words())\n",
        "all_text = brown_text + reuters_text + gutenberg_text"
      ]
    },
    {
      "cell_type": "code",
      "execution_count": 3,
      "metadata": {},
      "outputs": [],
      "source": [
        "train_sentences = re.split(r'(?<=[.!?])\\s+', all_text.strip())"
      ]
    },
    {
      "cell_type": "code",
      "execution_count": 4,
      "metadata": {},
      "outputs": [],
      "source": [
        "train_text = \" \".join(train_sentences)\n",
        "train_words = words(train_text)"
      ]
    },
    {
      "cell_type": "markdown",
      "metadata": {},
      "source": [
        "### Norvig’s Approach for Candidate Generation\n",
        "\n",
        "The first part of the code is inspired by Norvig’s solution for spelling correction. Here, I define functions to:\n",
        "\n",
        "- **Tokenize text** using a simple regex-based method.\n",
        "- **Generate candidate corrections** using the edit-distance approach (`edits1` and `edits2` functions).\n",
        "- **Filter candidates** by checking against a dictionary of known words extracted from a training corpus.\n",
        "\n",
        "This component is essential as it provides a list of potential corrections for any given misspelled word."
      ]
    },
    {
      "cell_type": "code",
      "execution_count": 5,
      "metadata": {
        "id": "MoQeEsZvHvvi"
      },
      "outputs": [],
      "source": [
        "WORDS = Counter(train_words)\n",
        "\n",
        "def P(word, N=sum(WORDS.values())): \n",
        "    \"Probability of `word`.\"\n",
        "    return WORDS[word] / N\n",
        "\n",
        "def correction(word): \n",
        "    \"Most probable spelling correction for word.\"\n",
        "    return max(candidates(word), key=P)\n",
        "\n",
        "def candidates(word): \n",
        "    \"Generate possible spelling corrections for word.\"\n",
        "    return (known([word]) or known(edits1(word)) or known(edits2(word)) or [word])\n",
        "\n",
        "def known(words): \n",
        "    \"The subset of `words` that appear in the dictionary of WORDS.\"\n",
        "    return set(w for w in words if w in WORDS)\n",
        "\n",
        "def edits1(word):\n",
        "    \"All edits that are one edit away from `word`.\"\n",
        "    letters    = 'abcdefghijklmnopqrstuvwxyz'\n",
        "    splits     = [(word[:i], word[i:])    for i in range(len(word) + 1)]\n",
        "    deletes    = [L + R[1:]               for L, R in splits if R]\n",
        "    transposes = [L + R[1] + R[0] + R[2:] for L, R in splits if len(R)>1]\n",
        "    replaces   = [L + c + R[1:]           for L, R in splits if R for c in letters]\n",
        "    inserts    = [L + c + R               for L, R in splits for c in letters]\n",
        "    return set(deletes + transposes + replaces + inserts)\n",
        "\n",
        "def edits2(word): \n",
        "    \"All edits that are two edits away from `word`.\"\n",
        "    return (e2 for e1 in edits1(word) for e2 in edits1(e1))"
      ]
    },
    {
      "cell_type": "markdown",
      "metadata": {},
      "source": [
        "Check function correctness"
      ]
    },
    {
      "cell_type": "code",
      "execution_count": 6,
      "metadata": {},
      "outputs": [
        {
          "data": {
            "text/plain": [
              "'spelling'"
            ]
          },
          "execution_count": 6,
          "metadata": {},
          "output_type": "execute_result"
        }
      ],
      "source": [
        "correction('speling')"
      ]
    },
    {
      "cell_type": "code",
      "execution_count": 7,
      "metadata": {},
      "outputs": [],
      "source": [
        "def norvigs_correction(sentence):\n",
        "    return \" \".join([correction(word) for word in sentence.split()])"
      ]
    },
    {
      "cell_type": "markdown",
      "metadata": {},
      "source": [
        "# Optimize Norvigs Solution with N-gram model"
      ]
    },
    {
      "cell_type": "markdown",
      "metadata": {},
      "source": [
        "### Building N-gram Counts\n",
        "\n",
        "To incorporate context, I build n-gram counts for various orders (unigrams, bigrams, trigrams):\n",
        "\n",
        "- A helper function `build_ngram_counts` is used to compute the frequency of each n-gram in the training data.\n",
        "- The counts for unigrams, bigrams, and trigrams are stored in a global dictionary (`ngram_counts`).\n",
        "\n",
        "These counts are later used to compute conditional probabilities that inform our context-sensitive corrections.\n"
      ]
    },
    {
      "cell_type": "code",
      "execution_count": 8,
      "metadata": {},
      "outputs": [],
      "source": [
        "ngram_counts = {}\n",
        "text = all_text.lower()\n",
        "text = re.sub(r'[^a-z0-9\\s]', '', text)\n",
        "tokens = re.findall(r'\\w+', text)\n",
        "tokens = [token for token in tokens if len(token) > 1]\n",
        "word_counts = Counter(tokens)\n",
        "my_vocab = {word for word, count in word_counts.items() if count >= 8}"
      ]
    },
    {
      "cell_type": "code",
      "execution_count": 9,
      "metadata": {},
      "outputs": [],
      "source": [
        "def build_ngram_counts(words_list, max_order, vocab):\n",
        "    global ngram_counts\n",
        "    for i in range(max_order):\n",
        "        if i + 1 not in ngram_counts:\n",
        "            ngram_counts[i + 1] = {}\n",
        "\n",
        "    # Order 1 (unigrams)\n",
        "    for word in words_list:\n",
        "        if word in vocab:\n",
        "            ngram_counts[1][(word,)] = ngram_counts[1].get((word,), 0) + 1\n",
        "    \n",
        "    # Orders 2 ... max_order\n",
        "    for order in range(2, max_order + 1):\n",
        "        for i in range(len(words_list) - order + 1):\n",
        "            gram = tuple(words_list[i:i + order])\n",
        "            # Only include the n-gram if all words are in the filtered vocab.\n",
        "            if all(w in vocab for w in gram):\n",
        "                ngram_counts[order][gram] = ngram_counts[order].get(gram, 0) + 1"
      ]
    },
    {
      "cell_type": "code",
      "execution_count": 10,
      "metadata": {},
      "outputs": [
        {
          "name": "stderr",
          "output_type": "stream",
          "text": [
            "Building n-gram counts: 100%|██████████| 243382/243382 [00:10<00:00, 22964.89it/s]\n"
          ]
        }
      ],
      "source": [
        "# Set the maximum n-gram order\n",
        "MAX_N = 3\n",
        "for sentence in tqdm(train_sentences, desc=\"Building n-gram counts\"):\n",
        "    build_ngram_counts(words(sentence), MAX_N, my_vocab)\n",
        "\n",
        "V = len(ngram_counts[1])  # Vocabulary size\n",
        "total_words = V  # Total number of words in the training set"
      ]
    },
    {
      "cell_type": "markdown",
      "metadata": {},
      "source": [
        "Check if we correclty calculated unigrams"
      ]
    },
    {
      "cell_type": "code",
      "execution_count": 11,
      "metadata": {},
      "outputs": [],
      "source": [
        "assert WORDS['the'] == ngram_counts[1][('the', )]"
      ]
    },
    {
      "cell_type": "markdown",
      "metadata": {},
      "source": [
        "### Probability Smoothing and Interpolation\n",
        "\n",
        "To handle unseen n-grams and avoid zero probabilities, I implemented smoothing techniques:\n",
        "\n",
        "- **Bigram and Trigram Smoothing:** For each, I compute smoothed probabilities using Laplace (add-alpha) smoothing.\n",
        "- **Interpolated Probabilities:** For contexts where more than one n-gram level is available, I combine trigram and bigram probabilities using a weighted interpolation scheme. The interpolation weight (`lam`) determines how much influence the trigram vs. bigram model has on the final probability.\n",
        "\n",
        "These probability functions allow us to estimate the likelihood of a word given its context in the sentence.\n"
      ]
    },
    {
      "cell_type": "markdown",
      "metadata": {},
      "source": [
        "### Evaluating the Language Model\n",
        "\n",
        "To assess the quality of our n-gram language models, I implemented functions to compute:\n",
        "\n",
        "- **Cross Entropy:** Measures the average number of bits needed to encode a sentence.\n",
        "- **Perplexity:** A transformed version of cross entropy that provides a more intuitive measure of model performance.\n",
        "\n",
        "This evaluation is performed on a held-out set (a subset of the test sentences), providing a way to compare different models (bigram, trigram, and interpolated) and select the best hyperparameters."
      ]
    },
    {
      "cell_type": "code",
      "execution_count": 12,
      "metadata": {},
      "outputs": [],
      "source": [
        "def compute_bigram_prob(w1, w2, alpha):\n",
        "    \"\"\"\n",
        "    Computes smoothed bigram probability:\n",
        "      P(w2|w1) = (C(w1, w2) + alpha) / (C(w1) + alpha * |V|)\n",
        "    \"\"\"\n",
        "    c_bigram = ngram_counts.get(2, {}).get((w1, w2), 0)\n",
        "    c_unigram = ngram_counts.get(1, {}).get((w1,), 0)\n",
        "    return (c_bigram + alpha) / (c_unigram + alpha * V)\n",
        "\n",
        "def compute_trigram_prob(w1, w2, w3, alpha):\n",
        "    \"\"\"\n",
        "    Computes smoothed trigram probability:\n",
        "      P(w3|w1,w2) = (C(w1, w2, w3) + alpha) / (C(w1, w2) + alpha * |V|)\n",
        "    \"\"\"\n",
        "    c_trigram = ngram_counts.get(3, {}).get((w1, w2, w3), 0)\n",
        "    c_bigram = ngram_counts.get(2, {}).get((w1, w2), 0)\n",
        "    return (c_trigram + alpha) / (c_bigram + alpha * V)\n",
        "\n",
        "def compute_interpolated_prob(w1, w2, w3, alpha, lam):\n",
        "    \"\"\"\n",
        "    Computes the interpolated probability:\n",
        "      P(w3|w1,w2) = lam * P_trigram(w3|w1,w2) + (1 - lam) * P_bigram(w3|w2)\n",
        "    where the bigram probability is computed as:\n",
        "      P(w3|w2) = (C(w2, w3) + alpha) / (C(w2) + alpha * |V|)\n",
        "    \"\"\"\n",
        "    # Trigram probability\n",
        "    p_tri = compute_trigram_prob(w1, w2, w3, alpha)\n",
        "    \n",
        "    # Bigram probability: note we use context w2 only\n",
        "    c_bigram = ngram_counts.get(2, {}).get((w2, w3), 0)\n",
        "    c_unigram = ngram_counts.get(1, {}).get((w2,), 0)\n",
        "    p_bi = (c_bigram + alpha) / (c_unigram + alpha * V)\n",
        "    \n",
        "    return lam * p_tri + (1 - lam) * p_bi\n",
        "\n",
        "\n",
        "def compute_cross_entropy_and_perplexity(sentences, model='interpolated', alpha=0.1, lam=0.5):\n",
        "    \"\"\"\n",
        "    Computes cross entropy and perplexity for a list of sentences.\n",
        "    \n",
        "    Parameters:\n",
        "      sentences: list of sentences (strings).\n",
        "      model: 'bigram', 'trigram', or 'interpolated'.\n",
        "      alpha: smoothing parameter.\n",
        "      lam: interpolation weight (only used if model=='interpolated').\n",
        "      \n",
        "    Returns:\n",
        "      cross_entropy, perplexity\n",
        "    \"\"\"\n",
        "    total_log_prob = 0.0\n",
        "    count = 0\n",
        "    for sentence in sentences:\n",
        "        tokens = sentence.lower().split()\n",
        "        if model == 'bigram':\n",
        "            for i in range(1, len(tokens)):\n",
        "                prob = compute_bigram_prob(tokens[i-1], tokens[i], alpha)\n",
        "                total_log_prob += math.log2(prob)\n",
        "                count += 1\n",
        "        elif model == 'trigram':\n",
        "            for i in range(2, len(tokens)):\n",
        "                prob = compute_trigram_prob(tokens[i-2], tokens[i-1], tokens[i], alpha)\n",
        "                total_log_prob += math.log2(prob)\n",
        "                count += 1\n",
        "        elif model == 'interpolated':\n",
        "            for i in range(2, len(tokens)):\n",
        "                prob = compute_interpolated_prob(tokens[i-2], tokens[i-1], tokens[i], alpha, lam)\n",
        "                total_log_prob += math.log2(prob)\n",
        "                count += 1\n",
        "    cross_entropy = - total_log_prob / count if count > 0 else float('inf')\n",
        "    perplexity = 2 ** cross_entropy\n",
        "    return cross_entropy, perplexity"
      ]
    },
    {
      "cell_type": "markdown",
      "metadata": {},
      "source": [
        "### Hyperparameter Tuning via Grid Search\n",
        "\n",
        "I performed a grid search over candidate values for the smoothing parameter (`alpha`) and the interpolation weight (`lam`):\n",
        "\n",
        "- For the **bigram** and **trigram** models, I tuned the smoothing parameter.\n",
        "- For the **interpolated** model, both `alpha` and `lam` were tuned.\n",
        "- The best parameters were chosen based on the minimum cross entropy achieved on the held-out validation set.\n",
        "\n",
        "This tuning ensures that the language model is well-calibrated and provides reliable probability estimates for the subsequent correction task.\n"
      ]
    },
    {
      "cell_type": "code",
      "execution_count": 13,
      "metadata": {},
      "outputs": [
        {
          "name": "stdout",
          "output_type": "stream",
          "text": [
            "Tuning hyperparameters for the bigram LM:\n",
            "Best bigram hyperparameters (alpha, ): (0.01,) with Cross Entropy: 10.778102599040484 \n",
            "\n",
            "Tuning hyperparameters for the trigram LM:\n",
            "Best trigram hyperparameters (alpha, ): (0.0001,) with Cross Entropy: 9.07821429240082 \n",
            "\n",
            "Tuning hyperparameters for the interpolated LM:\n",
            "Best interpolated hyperparameters (alpha, lambda): (0.0001, 0.75) with Cross Entropy: 8.709548759321516 \n",
            "\n"
          ]
        }
      ],
      "source": [
        "held_out = train_sentences[:10000]\n",
        "\n",
        "# Define candidate values for alpha and lambda.\n",
        "alpha_values = [0.0001, 0.001, 0.01, 0.1, 0.2, 0.5, 1.0]\n",
        "lam_values = [0.0001, 0.001, 0.01, 0.25, 0.5, 0.75, 1.0]\n",
        "\n",
        "best_bigram_params=None\n",
        "best_bigram_ce = float('inf')\n",
        "print(\"Tuning hyperparameters for the bigram LM:\")\n",
        "for alpha in alpha_values:\n",
        "    ce, ppl = compute_cross_entropy_and_perplexity(held_out, model='bigram', alpha=alpha)\n",
        "    # print(f\"Alpha: {alpha}, Cross Entropy: {ce:.4f}, Perplexity: {ppl:.4f}\")\n",
        "    if ce < best_bigram_ce:\n",
        "        best_bigram_ce = ce\n",
        "        best_bigram_params = (alpha,)\n",
        "print(\"Best bigram hyperparameters (alpha, ):\", best_bigram_params, \"with Cross Entropy:\", best_bigram_ce, \"\\n\")\n",
        "\n",
        "best_trigram_params=None\n",
        "best_trigram_ce = float('inf')\n",
        "print(\"Tuning hyperparameters for the trigram LM:\")\n",
        "for alpha in alpha_values:\n",
        "    ce, ppl = compute_cross_entropy_and_perplexity(held_out, model='trigram', alpha=alpha)\n",
        "    # print(f\"Alpha: {alpha}, Cross Entropy: {ce:.4f}, Perplexity: {ppl:.4f}\")\n",
        "    if ce < best_trigram_ce:\n",
        "        best_trigram_ce = ce\n",
        "        best_trigram_params = (alpha,)\n",
        "print(\"Best trigram hyperparameters (alpha, ):\", best_trigram_params, \"with Cross Entropy:\", best_trigram_ce, \"\\n\")\n",
        "\n",
        "best_interpolated_params = None\n",
        "best_interpolated_ce = float('inf')\n",
        "print(\"Tuning hyperparameters for the interpolated LM:\")\n",
        "for alpha in alpha_values:\n",
        "    for lam in lam_values:\n",
        "        ce, ppl = compute_cross_entropy_and_perplexity(held_out, model='interpolated', alpha=alpha, lam=lam)\n",
        "        # print(f\"Alpha: {alpha}, Lambda: {lam}, Cross Entropy: {ce:.4f}, Perplexity: {ppl:.4f}\")\n",
        "        if ce < best_interpolated_ce:\n",
        "            best_interpolated_ce = ce\n",
        "            best_interpolated_params = (alpha, lam)\n",
        "\n",
        "print(\"Best interpolated hyperparameters (alpha, lambda):\", best_interpolated_params, \"with Cross Entropy:\", best_interpolated_ce, \"\\n\")"
      ]
    },
    {
      "cell_type": "markdown",
      "metadata": {},
      "source": [
        "**The best model is interpolated**"
      ]
    },
    {
      "cell_type": "markdown",
      "metadata": {},
      "source": [
        "### Context-Sensitive Correction using Beam Search\n",
        "\n",
        "The final component of the solution is a context-sensitive correction function (`my_correction`):\n",
        "\n",
        "- **Beam Search:** Instead of correcting each word independently, the beam search maintains a set of the best candidate sequences (with a defined beam width) as it processes the sentence word by word.\n",
        "- **Context-aware Scoring:** For each word, candidate corrections are scored based on the n-gram probability computed with the appropriate context. Early in the sentence (with little context), unigram or bigram probabilities are used; with more context, interpolated trigram probabilities are applied.\n",
        "- **Caching Corrections:** The `lru_cache` decorator is used to speed up candidate generation by caching results for repeated words.\n",
        "\n",
        "This approach enables the corrector to select a globally coherent sequence of words, thus effectively addressing context-sensitive ambiguities (e.g., distinguishing “doing sport” from “dying sport” based on the surrounding words).\n"
      ]
    },
    {
      "cell_type": "code",
      "execution_count": 14,
      "metadata": {},
      "outputs": [],
      "source": [
        "best_alpha = best_interpolated_params[0]\n",
        "best_lambda = best_interpolated_params[1]\n",
        "\n",
        "@lru_cache(maxsize=None)\n",
        "def get_corrections(word, vocabulary=my_vocab):\n",
        "    def filter_known(candidates, vocab):\n",
        "        return {w for w in candidates if w in vocab}\n",
        "    \n",
        "    candidates = filter_known([word], vocabulary)\n",
        "    if candidates:\n",
        "        return candidates\n",
        "    candidates = filter_known(edits1(word), vocabulary)\n",
        "    if candidates:\n",
        "        return candidates\n",
        "    candidates = filter_known(edits2(word), vocabulary)\n",
        "    if candidates:\n",
        "        return candidates\n",
        "    return {word}\n",
        "\n",
        "\n",
        "def my_correction(sentence, beam_width=3, n=2, alpha=best_alpha, lam=best_lambda):\n",
        "    \"\"\"\n",
        "    Corrects a sentence using an n-gram language model with tuned hyperparameters.\n",
        "    \n",
        "    Parameters:\n",
        "      - sentence: the input sentence to be corrected.\n",
        "      - beam_width: the beam width for search.\n",
        "      - n: the n-gram order to use (e.g., n=2 for bigrams, n=3 for trigrams).\n",
        "      - alpha: smoothing parameter (tuned).\n",
        "      - lam: interpolation weight for trigram and bigram probabilities (tuned).\n",
        "    \n",
        "    For each word, we use a context of up to (n-1) preceding words.\n",
        "    When there isn’t enough context (at the start), we back off to lower-order models.\n",
        "    \"\"\"\n",
        "    sentence_words = sentence.lower().split()\n",
        "    candidates_seq = [(0.0, [])]\n",
        "    \n",
        "    for i, word in enumerate(sentence_words):\n",
        "        new_candidates = []\n",
        "        candidate_list = list(get_corrections(word))\n",
        "        \n",
        "        for candidate in candidate_list:\n",
        "            for score, seq in candidates_seq:\n",
        "                context_length = min(n - 1, len(seq))\n",
        "                if context_length == 0:\n",
        "                    # Use unigram probability with smoothing using alpha.\n",
        "                    prob = (ngram_counts[1].get((candidate,), 0) + alpha) / (total_words + alpha * V)\n",
        "                elif context_length == 1:\n",
        "                    # Use bigram probability with smoothing.\n",
        "                    context = tuple(seq[-1:])\n",
        "                    prob = (ngram_counts.get(2, {}).get(context + (candidate,), 0) + alpha) / (\n",
        "                           ngram_counts.get(1, {}).get(context, 0) + alpha * V)\n",
        "                elif context_length == 2:\n",
        "                    # Use interpolated probability for trigram: \n",
        "                    # P(candidate|w1,w2) = lam * trigram + (1-lam) * bigram\n",
        "                    w1, w2 = seq[-2], seq[-1]\n",
        "                    trigram_prob = (ngram_counts.get(3, {}).get((w1, w2, candidate), 0) + alpha) / (\n",
        "                                   ngram_counts.get(2, {}).get((w1, w2), 0) + alpha * V)\n",
        "                    bigram_prob = (ngram_counts.get(2, {}).get((w2, candidate), 0) + alpha) / (\n",
        "                                  ngram_counts.get(1, {}).get((w2,), 0) + alpha * V)\n",
        "                    prob = lam * trigram_prob + (1 - lam) * bigram_prob\n",
        "                else:\n",
        "                    # For contexts longer than 2, fall back to the standard n-gram formula with smoothing.\n",
        "                    context = tuple(seq[-context_length:])\n",
        "                    prob = (ngram_counts.get(context_length + 1, {}).get(context + (candidate,), 0) + alpha) / (\n",
        "                           ngram_counts.get(context_length, {}).get(context, 0) + alpha * V)\n",
        "                \n",
        "                new_score = score + math.log(prob)\n",
        "                new_seq = seq + [candidate]\n",
        "                heapq.heappush(new_candidates, (new_score, new_seq))\n",
        "                if len(new_candidates) > beam_width:\n",
        "                    heapq.heappop(new_candidates)\n",
        "        \n",
        "        candidates_seq = new_candidates\n",
        "    \n",
        "    best_score, best_seq = max(candidates_seq, key=lambda x: x[0])\n",
        "    return ' '.join(best_seq)\n"
      ]
    },
    {
      "cell_type": "markdown",
      "metadata": {},
      "source": [
        "### Grid Search for Optimal Beam Width\n",
        "\n",
        "In this section, we perform a grid search to determine the best `beam_width` for our context-sensitive spelling correction algorithm. The `beam_width` parameter controls how many candidate correction sequences are maintained during the beam search. While a higher beam width might capture more promising candidate sequences and potentially yield higher accuracy, it also increases computational cost.\n",
        "\n",
        "For this grid search:\n",
        "- We evaluate a range of beam widths (from 1 to 10).\n",
        "- For each beam width, we add noise to sentences (using our `add_noise` function) to simulate spelling errors.\n",
        "- We run the `my_correction` function on the noisy sentences (with `n=3` for trigram context) and compare the output with the original sentence.\n",
        "- The overall accuracy is calculated as the proportion of words correctly recovered.\n",
        "- Finally, we plot the beam width values against their corresponding accuracies to visualize and select the best parameter.\n"
      ]
    },
    {
      "cell_type": "code",
      "execution_count": 15,
      "metadata": {},
      "outputs": [
        {
          "name": "stderr",
          "output_type": "stream",
          "text": [
            "Generating synthetic train data: 100%|██████████| 100/100 [00:41<00:00,  2.42it/s]\n"
          ]
        }
      ],
      "source": [
        "def add_noise(word, noise_prob=0.2):\n",
        "    if random.random() > noise_prob or len(word) < 1:\n",
        "        return word\n",
        "    edits_set = set()\n",
        "\n",
        "    for edit1_word in edits1(word):\n",
        "        for edit2_word in edits1(edit1_word):\n",
        "            edits_set.add(edit2_word)\n",
        "    \n",
        "    edits_set = edits_set.union(edits1(word))\n",
        "    edits = list(edits_set)\n",
        "        \n",
        "    return random.choice(edits) if edits else word\n",
        "\n",
        "test_data = []\n",
        "for sentence in tqdm(train_sentences[:100], desc=\"Generating synthetic train data\"):\n",
        "    original = words(sentence)\n",
        "    noisy = [add_noise(word, 0.7) for word in original]\n",
        "    test_data.append([original, noisy])"
      ]
    },
    {
      "cell_type": "code",
      "execution_count": 16,
      "metadata": {},
      "outputs": [
        {
          "name": "stdout",
          "output_type": "stream",
          "text": [
            "Starting grid search for beam width...\n",
            "\n"
          ]
        },
        {
          "name": "stderr",
          "output_type": "stream",
          "text": [
            "Evaluating beam_width=1: 100%|██████████| 100/100 [00:36<00:00,  2.74it/s]\n"
          ]
        },
        {
          "name": "stdout",
          "output_type": "stream",
          "text": [
            "Beam width 1: Accuracy = 0.6927\n"
          ]
        },
        {
          "name": "stderr",
          "output_type": "stream",
          "text": [
            "Evaluating beam_width=3: 100%|██████████| 100/100 [00:00<00:00, 2090.43it/s]\n"
          ]
        },
        {
          "name": "stdout",
          "output_type": "stream",
          "text": [
            "Beam width 3: Accuracy = 0.7175\n"
          ]
        },
        {
          "name": "stderr",
          "output_type": "stream",
          "text": [
            "Evaluating beam_width=5: 100%|██████████| 100/100 [00:00<00:00, 1114.91it/s]\n"
          ]
        },
        {
          "name": "stdout",
          "output_type": "stream",
          "text": [
            "Beam width 5: Accuracy = 0.7208\n"
          ]
        },
        {
          "name": "stderr",
          "output_type": "stream",
          "text": [
            "Evaluating beam_width=7: 100%|██████████| 100/100 [00:00<00:00, 1024.79it/s]\n"
          ]
        },
        {
          "name": "stdout",
          "output_type": "stream",
          "text": [
            "Beam width 7: Accuracy = 0.7247\n"
          ]
        },
        {
          "name": "stderr",
          "output_type": "stream",
          "text": [
            "Evaluating beam_width=9: 100%|██████████| 100/100 [00:00<00:00, 746.37it/s]\n"
          ]
        },
        {
          "name": "stdout",
          "output_type": "stream",
          "text": [
            "Beam width 9: Accuracy = 0.7291\n"
          ]
        },
        {
          "name": "stderr",
          "output_type": "stream",
          "text": [
            "Evaluating beam_width=11: 100%|██████████| 100/100 [00:00<00:00, 732.75it/s]\n"
          ]
        },
        {
          "name": "stdout",
          "output_type": "stream",
          "text": [
            "Beam width 11: Accuracy = 0.7291\n"
          ]
        },
        {
          "name": "stderr",
          "output_type": "stream",
          "text": [
            "Evaluating beam_width=13: 100%|██████████| 100/100 [00:00<00:00, 564.79it/s]\n"
          ]
        },
        {
          "name": "stdout",
          "output_type": "stream",
          "text": [
            "Beam width 13: Accuracy = 0.7296\n"
          ]
        },
        {
          "name": "stderr",
          "output_type": "stream",
          "text": [
            "Evaluating beam_width=15: 100%|██████████| 100/100 [00:00<00:00, 561.93it/s]\n"
          ]
        },
        {
          "name": "stdout",
          "output_type": "stream",
          "text": [
            "Beam width 15: Accuracy = 0.7307\n"
          ]
        },
        {
          "name": "stderr",
          "output_type": "stream",
          "text": [
            "Evaluating beam_width=17: 100%|██████████| 100/100 [00:00<00:00, 461.70it/s]\n"
          ]
        },
        {
          "name": "stdout",
          "output_type": "stream",
          "text": [
            "Beam width 17: Accuracy = 0.7318\n"
          ]
        },
        {
          "name": "stderr",
          "output_type": "stream",
          "text": [
            "Evaluating beam_width=19: 100%|██████████| 100/100 [00:00<00:00, 459.95it/s]\n"
          ]
        },
        {
          "name": "stdout",
          "output_type": "stream",
          "text": [
            "Beam width 19: Accuracy = 0.7313\n",
            "\n",
            "Best beam_width: 17 with Accuracy: 0.7318\n"
          ]
        },
        {
          "data": {
            "image/png": "[encoded data removed]",
            "text/plain": [
              "<Figure size 800x500 with 1 Axes>"
            ]
          },
          "metadata": {},
          "output_type": "display_data"
        }
      ],
      "source": [
        "beam_width_values = list(range(1, 20, 2))\n",
        "accuracy_results = []\n",
        "\n",
        "print(\"Starting grid search for beam width...\\n\")\n",
        "\n",
        "for bw in beam_width_values:\n",
        "    my_correct, total = 0, 0\n",
        "    for original, noisy in tqdm(test_data, desc=f\"Evaluating beam_width={bw}\"):\n",
        "        noisy_sentence = ' '.join(noisy)\n",
        "        my_result = my_correction(noisy_sentence, n=3, beam_width=bw).split()\n",
        "        \n",
        "        if len(my_result) != len(original):\n",
        "            continue\n",
        "        \n",
        "        for o, m in zip(original, my_result):\n",
        "            total += 1\n",
        "            if m == o:\n",
        "                my_correct += 1\n",
        "    \n",
        "    acc = my_correct / total if total > 0 else 0\n",
        "    accuracy_results.append(acc)\n",
        "    print(f\"Beam width {bw}: Accuracy = {acc:.4f}\")\n",
        "\n",
        "best_idx = accuracy_results.index(max(accuracy_results))\n",
        "best_beam_width = beam_width_values[best_idx]\n",
        "print(f\"\\nBest beam_width: {best_beam_width} with Accuracy: {accuracy_results[best_idx]:.4f}\")\n",
        "\n",
        "plt.figure(figsize=(8, 5))\n",
        "plt.plot(beam_width_values, accuracy_results, marker='o', linestyle='-', color='b')\n",
        "plt.xlabel(\"Beam Width\")\n",
        "plt.ylabel(\"Accuracy\")\n",
        "plt.title(\"Beam Width vs. Spelling Correction Accuracy\")\n",
        "plt.grid(True)\n",
        "plt.show()\n"
      ]
    },
    {
      "cell_type": "markdown",
      "metadata": {},
      "source": [
        "## Evaluate on a Test Set\n",
        "\n",
        "In this section, we evaluate our spelling correction system using a real-world dataset – the Holbrook corpus. The Holbrook dataset consists of passages taken from the book *English for the Rejected* by David Holbrook. These passages are unique because they include genuine writing errors from secondary-school children. The original misspellings are tagged, which allows us to compare the corrected output against the intended words.\n",
        "\n",
        "We will compare the performance of two systems:\n",
        "- **Norvig's Corrector:** Our baseline implementation based on Norvig's algorithm.\n",
        "- **NGram-based Corrector:** Our enhanced context-sensitive corrector that uses an n-gram language model with beam search.\n",
        "\n",
        "The evaluation metrics include accuracy, precision, recall, and F1 score.\n"
      ]
    },
    {
      "cell_type": "markdown",
      "metadata": {},
      "source": [
        "### Parsing the Holbrook Dataset\n",
        "\n",
        "The function `parse_holbrook_line` processes each line from the Holbrook dataset. It extracts:\n",
        "- The **raw sentence** (with errors),\n",
        "- The **correct sentence** (with target words), and\n",
        "- The **error positions** (indexes where errors occurred).\n",
        "\n",
        "This parsing is essential for aligning the outputs of our correctors with the reference text, ensuring we know exactly where corrections should have been made.\n"
      ]
    },
    {
      "cell_type": "code",
      "execution_count": 17,
      "metadata": {},
      "outputs": [],
      "source": [
        "def parse_holbrook_line(line):\n",
        "    \"\"\"\n",
        "    Parse a line from Holbrook dataset, extracting:\n",
        "    - Original sentence with errors\n",
        "    - Correct sentence with targets\n",
        "    - List of error positions and targets\n",
        "    \"\"\"\n",
        "    errors = []\n",
        "    raw_parts = []\n",
        "    correct_parts = []\n",
        "    \n",
        "    # Split line into text and error segments\n",
        "    pos = 0\n",
        "    for match in re.finditer(r'<err targ=(.*?)>(.*?)</err>', line):\n",
        "        target = match.group(1).strip('\"')\n",
        "        error = match.group(2)\n",
        "\n",
        "        start, end = match.start(), match.end()\n",
        "        \n",
        "        raw_parts.append(line[pos:start])\n",
        "        correct_parts.append(line[pos:start])\n",
        "        \n",
        "        pos = end\n",
        "\n",
        "        correct_parts.append(target)\n",
        "        \n",
        "        if len(error.split()) > 1 or len(target.split()) > 1:\n",
        "            raw_parts.append(target)\n",
        "            continue\n",
        "        else:\n",
        "            raw_parts.append(error)\n",
        "        \n",
        "\n",
        "        if error == target:\n",
        "            continue\n",
        "\n",
        "        error_start = len(' '.join(raw_parts).split())\n",
        "        errors.append(error_start-1)\n",
        "    \n",
        "    \n",
        "    raw_parts.append(line[pos:])\n",
        "    correct_parts.append(line[pos:])\n",
        "    \n",
        "    raw_sentence = ' '.join(''.join(raw_parts).split())\n",
        "    correct_sentence = ' '.join(''.join(correct_parts).split())\n",
        "    \n",
        "    return raw_sentence, correct_sentence, errors"
      ]
    },
    {
      "cell_type": "markdown",
      "metadata": {},
      "source": [
        "### Evaluation Metrics on the Holbrook Dataset\n",
        "\n",
        "The `evaluate_holbrook` function evaluates a given spelling corrector on the parsed Holbrook data. For each sentence, it:\n",
        "- Applies the correction function (either Norvig's or our NGram-based method).\n",
        "- Compares the corrected sentence to the correct sentence (the ground truth).\n",
        "- Counts the total number of errors, the number of corrections proposed by the system, and the number of correct corrections.\n",
        "\n",
        "From these counts, we calculate:\n",
        "- **Accuracy:** The percentage of errors that were correctly corrected."
      ]
    },
    {
      "cell_type": "code",
      "execution_count": null,
      "metadata": {},
      "outputs": [],
      "source": [
        "def evaluate_holbrook(test_lines, corrector_func, beam_width=None, n=None):\n",
        "    \"\"\"\n",
        "    Evaluate spelling corrector on Holbrook dataset\n",
        "    Returns:\n",
        "    - Accuracy: % of errors corrected properly\n",
        "    \"\"\"\n",
        "    stats = defaultdict(int)\n",
        "    \n",
        "    for line in tqdm(test_lines, desc='Evaluating'):\n",
        "        if not line.strip():\n",
        "            continue\n",
        "            \n",
        "        raw_sentence, correct_sentence, errors = parse_holbrook_line(line)\n",
        "        \n",
        "        if (beam_width is None) or (n is None):\n",
        "            corrected_sentence = corrector_func(raw_sentence)\n",
        "        else:    \n",
        "            corrected_sentence = corrector_func(raw_sentence, beam_width=beam_width, n=n)\n",
        "        \n",
        "        stats[\"total_errors\"] += len(errors)\n",
        "        \n",
        "        for i, (raw, corrected, correct) in enumerate(zip(raw_sentence.split(), corrected_sentence.split(), correct_sentence.split())):\n",
        "            if raw != corrected:\n",
        "                stats['total_proposed'] += 1\n",
        "\n",
        "            if i in errors and corrected == correct:\n",
        "                stats['correct'] += 1\n",
        "    \n",
        "    accuracy = stats['correct'] / stats['total_errors'] if stats['total_errors'] else 0\n",
        "    \n",
        "    return {\n",
        "        'accuracy': accuracy,\n",
        "        'total_errors': stats['total_errors'],\n",
        "        'correct_corrections': stats['correct'],\n",
        "    }"
      ]
    },
    {
      "cell_type": "markdown",
      "metadata": {},
      "source": [
        "### Loading and Inspecting the Holbrook Data\n",
        "\n",
        "We load the Holbrook dataset from the file `holbrook-tagged.dat.txt` and split the text into sentences using regular expressions. A sample sentence is printed and parsed to illustrate how the errors are tagged and how the parsing function works. This step ensures that our evaluation functions receive correctly formatted data.\n"
      ]
    },
    {
      "cell_type": "code",
      "execution_count": null,
      "metadata": {},
      "outputs": [
        {
          "name": "stdout",
          "output_type": "stream",
          "text": [
            "186633\n",
            "we have got anglia like to <err targ=watch> wach </err> <err targ=cowboys> cow boys </err> .\n"
          ]
        },
        {
          "data": {
            "text/plain": [
              "('we have got anglia like to wach cowboys .',\n",
              " 'we have got anglia like to watch cowboys .',\n",
              " [6])"
            ]
          },
          "execution_count": 19,
          "metadata": {},
          "output_type": "execute_result"
        }
      ],
      "source": [
        "with open('holbrook-tagged.dat.txt') as f:\n",
        "    text = f.read().lower()\n",
        "\n",
        "print(len(text))\n",
        "\n",
        "sentences = re.split(r'(?<=[.!?])\\s+', text.strip())\n",
        "\n",
        "sentence_index = 3\n",
        "print(sentences[sentence_index])\n",
        "\n",
        "parse_holbrook_line(sentences[sentence_index])"
      ]
    },
    {
      "cell_type": "markdown",
      "metadata": {},
      "source": [
        "### Evaluating Norvig's Correction on the Holbrook Dataset\n",
        "\n",
        "The first evaluation is performed using Norvig's correction function. After processing the entire dataset with `evaluate_holbrook`, we print out the computed accuracy, precision, recall, and F1 score. This serves as the baseline performance for our spelling correction system.\n"
      ]
    },
    {
      "cell_type": "code",
      "execution_count": 21,
      "metadata": {},
      "outputs": [
        {
          "name": "stderr",
          "output_type": "stream",
          "text": [
            "Evaluating:   0%|          | 0/1057 [00:00<?, ?it/s]"
          ]
        },
        {
          "name": "stderr",
          "output_type": "stream",
          "text": [
            "Evaluating: 100%|██████████| 1057/1057 [00:30<00:00, 34.56it/s]"
          ]
        },
        {
          "name": "stdout",
          "output_type": "stream",
          "text": [
            "Accuracy: 17.76%\n"
          ]
        },
        {
          "name": "stderr",
          "output_type": "stream",
          "text": [
            "\n"
          ]
        }
      ],
      "source": [
        "norvig_metrics = evaluate_holbrook(sentences, norvigs_correction)\n",
        "\n",
        "print(f\"Accuracy: {norvig_metrics['accuracy']:.2%}\")"
      ]
    },
    {
      "cell_type": "markdown",
      "metadata": {},
      "source": [
        "### Evaluating the NGram-based Correction on the Holbrook Dataset\n",
        "\n",
        "Next, we evaluate our enhanced correction system (which uses beam search with a trigram language model) on the same dataset. In this case, we call `evaluate_holbrook` with the additional parameters `n=3` (for trigram context) and an appropriate `beam_width` (e.g., 5). The results are printed and later compared with those from Norvig's corrector.\n"
      ]
    },
    {
      "cell_type": "code",
      "execution_count": 22,
      "metadata": {},
      "outputs": [
        {
          "name": "stderr",
          "output_type": "stream",
          "text": [
            "Evaluating: 100%|██████████| 1057/1057 [00:24<00:00, 42.76it/s]"
          ]
        },
        {
          "name": "stdout",
          "output_type": "stream",
          "text": [
            "Accuracy: 23.36%\n"
          ]
        },
        {
          "name": "stderr",
          "output_type": "stream",
          "text": [
            "\n"
          ]
        }
      ],
      "source": [
        "ngram_metrics = evaluate_holbrook(sentences, my_correction, n=3, beam_width=best_beam_width)\n",
        "\n",
        "print(f\"Accuracy: {ngram_metrics['accuracy']:.2%}\")"
      ]
    },
    {
      "cell_type": "markdown",
      "metadata": {},
      "source": [
        "### Comparing the Results\n",
        "\n",
        "After obtaining the metrics for both approaches, we calculate and print the differences between the algorithms' results. This comparison includes:\n",
        "- The improvement in accuracy,\n",
        "\n",
        "This side-by-side comparison helps illustrate the impact of incorporating context through the n-gram model and beam search.\n"
      ]
    },
    {
      "cell_type": "code",
      "execution_count": 23,
      "metadata": {},
      "outputs": [
        {
          "name": "stdout",
          "output_type": "stream",
          "text": [
            "\n",
            "Comparative Improvement:\n",
            "Accuracy Improvement: 5.60%\n"
          ]
        }
      ],
      "source": [
        "print(\"\\nComparative Improvement:\")\n",
        "accuracy_improvement = ngram_metrics['accuracy'] - norvig_metrics['accuracy']\n",
        "\n",
        "print(f\"Accuracy Improvement: {accuracy_improvement:.2%}\")"
      ]
    },
    {
      "cell_type": "markdown",
      "metadata": {},
      "source": [
        "##  Word Error Rate (WER)\n",
        "\n",
        "WER is a widely used metric in tasks like speech recognition and spelling correction. It is defined as:\n",
        "\n",
        "### $ WER = \\frac{S + I + D}{N} $\n",
        "\n",
        "* $ S $ : the number of substitutions\n",
        "* $ i $ : the number of insertions\n",
        "* $ D $ : the number of deletions\n",
        "* N: the total number of words in the reference\n",
        "\n",
        "To compute WER, we first define a helper function `parse_holbrook_line_without_indexes` which returns the raw and correct sentences without the error index information. The `evaluate_wer` function then uses the `nltk.edit_distance` function (i.e., Levenshtein distance) on word sequences to determine the number of word-level errors. We run this evaluation for both Norvig's corrector and our NGram-based corrector to compare their performance."
      ]
    },
    {
      "cell_type": "code",
      "execution_count": 24,
      "metadata": {},
      "outputs": [],
      "source": [
        "def parse_holbrook_line_without_indexes(line):\n",
        "    \"\"\"\n",
        "    Parse a line from Holbrook dataset, extracting:\n",
        "    - Original sentence with errors\n",
        "    - Correct sentence with targets\n",
        "    \"\"\"\n",
        "    raw_parts = []\n",
        "    correct_parts = []\n",
        "    \n",
        "    pos = 0\n",
        "    for match in re.finditer(r'<err targ=(.*?)>(.*?)</err>', line):\n",
        "        target = match.group(1).strip('\"')\n",
        "        error = match.group(2)\n",
        "\n",
        "        start, end = match.start(), match.end()\n",
        "        \n",
        "        raw_parts.append(line[pos:start])\n",
        "        correct_parts.append(line[pos:start])\n",
        "        \n",
        "        pos = end\n",
        "\n",
        "        correct_parts.append(target)\n",
        "\n",
        "        raw_parts.append(error)\n",
        "\n",
        "    raw_parts.append(line[pos:])\n",
        "    correct_parts.append(line[pos:])\n",
        "    \n",
        "    raw_sentence = ' '.join(''.join(raw_parts).split())\n",
        "    correct_sentence = ' '.join(''.join(correct_parts).split())\n",
        "    \n",
        "    return raw_sentence, correct_sentence"
      ]
    },
    {
      "cell_type": "code",
      "execution_count": 25,
      "metadata": {},
      "outputs": [
        {
          "name": "stdout",
          "output_type": "stream",
          "text": [
            "my <err targ=sister> siter </err> <err targ=goes> go </err> to tonbury.\n"
          ]
        },
        {
          "data": {
            "text/plain": [
              "('my siter go to tonbury.', 'my sister goes to tonbury.')"
            ]
          },
          "execution_count": 25,
          "metadata": {},
          "output_type": "execute_result"
        }
      ],
      "source": [
        "sentence_index = 3\n",
        "print(sentences[sentence_index])\n",
        "\n",
        "parse_holbrook_line_without_indexes(sentences[sentence_index])"
      ]
    },
    {
      "cell_type": "code",
      "execution_count": 26,
      "metadata": {},
      "outputs": [],
      "source": [
        "Levenshtein =  nltk.edit_distance\n",
        "\n",
        "def evaluate_wer(test_lines, corrector_func, beam_width=None, n=None):\n",
        "\n",
        "    total_wer = 0\n",
        "    num_sentences = len(test_lines)\n",
        "    \n",
        "    for line in tqdm(test_lines, desc='Evaluating'):\n",
        "        if not line.strip():\n",
        "            continue\n",
        "            \n",
        "        raw_sentence, correct_sentence = parse_holbrook_line_without_indexes(line)\n",
        "        \n",
        "        if (beam_width is None) or (n is None):\n",
        "            corrected_sentence = corrector_func(raw_sentence)\n",
        "        else:    \n",
        "            corrected_sentence = corrector_func(raw_sentence, beam_width=beam_width, n=n)\n",
        "        \n",
        "        reference_words = correct_sentence.split()\n",
        "        corrected_words = corrected_sentence.split()\n",
        "\n",
        "        S = Levenshtein(reference_words, corrected_words)\n",
        "        I = max(0, len(corrected_words) - len(reference_words))\n",
        "        D = max(0, len(reference_words) - len(corrected_words))\n",
        "\n",
        "        N = max(len(reference_words), len(corrected_words))\n",
        "\n",
        "        wer = (S + I + D) / N\n",
        "        total_wer += wer\n",
        "\n",
        "    return total_wer / num_sentences"
      ]
    },
    {
      "cell_type": "code",
      "execution_count": 27,
      "metadata": {},
      "outputs": [
        {
          "name": "stderr",
          "output_type": "stream",
          "text": [
            "Evaluating: 100%|██████████| 1057/1057 [00:32<00:00, 32.99it/s]"
          ]
        },
        {
          "name": "stdout",
          "output_type": "stream",
          "text": [
            "Norvig's WER: 0.22651521803478883\n"
          ]
        },
        {
          "name": "stderr",
          "output_type": "stream",
          "text": [
            "\n"
          ]
        }
      ],
      "source": [
        "wer_norvig = evaluate_wer(sentences, norvigs_correction)\n",
        "print(\"Norvig's WER:\", wer_norvig)"
      ]
    },
    {
      "cell_type": "code",
      "execution_count": 28,
      "metadata": {},
      "outputs": [
        {
          "name": "stderr",
          "output_type": "stream",
          "text": [
            "Evaluating:   0%|          | 0/1057 [00:00<?, ?it/s]"
          ]
        },
        {
          "name": "stderr",
          "output_type": "stream",
          "text": [
            "Evaluating: 100%|██████████| 1057/1057 [00:03<00:00, 282.70it/s]"
          ]
        },
        {
          "name": "stdout",
          "output_type": "stream",
          "text": [
            "NGram-based WER: 0.2835704922762498\n"
          ]
        },
        {
          "name": "stderr",
          "output_type": "stream",
          "text": [
            "\n"
          ]
        }
      ],
      "source": [
        "wer_ngram = evaluate_wer(sentences, my_correction, n=3, beam_width=best_beam_width)\n",
        "print(\"NGram-based WER:\", wer_ngram)"
      ]
    },
    {
      "cell_type": "markdown",
      "metadata": {},
      "source": [
        "### Comparing results"
      ]
    },
    {
      "cell_type": "code",
      "execution_count": 29,
      "metadata": {},
      "outputs": [
        {
          "name": "stdout",
          "output_type": "stream",
          "text": [
            "WER Improvement (Norvig's WER - NGram-based WER): -0.05705527424146098\n"
          ]
        }
      ],
      "source": [
        "improvement_wer = wer_norvig - wer_ngram\n",
        "print(\"WER Improvement (Norvig's WER - NGram-based WER):\", improvement_wer)"
      ]
    },
    {
      "cell_type": "markdown",
      "metadata": {},
      "source": [
        "**WER increased due to NGram algorithm found more errors than Norvigs**"
      ]
    },
    {
      "cell_type": "markdown",
      "metadata": {},
      "source": [
        "## Character Error Rate (CER)\n",
        "\n",
        "CER is similar to WER but is calculated at the character level. This metric is particularly useful for capturing fine-grained errors that might be overlooked by word-level evaluation. The formula for CER is:\n",
        "\n",
        "\n",
        "### $ CER = \\frac{S + I + D}{N} $\n",
        "\n",
        "* $ S $ : the number of character substitutions\n",
        "* $ i $ : the number of character insertions\n",
        "* $ D $ : the number of character deletions\n",
        "* N: the total number of characterσ in the reference\n",
        "\n",
        "where the variables represent the number of character substitutions, insertions, deletions, and the total number of characters in the reference, respectively.\n",
        "\n",
        "The `evaluate_cer` function computes CER by comparing the corrected output and the reference at the character level using the Levenshtein distance. We evaluate both Norvig's and our NGram-based corrector on the Holbrook dataset and compare the resulting CER scores."
      ]
    },
    {
      "cell_type": "code",
      "execution_count": 30,
      "metadata": {},
      "outputs": [],
      "source": [
        "def evaluate_cer(test_lines, corrector_func, beam_width=None, n=None):\n",
        "    total_cer = 0\n",
        "    num_sentences = len(test_lines)\n",
        "    \n",
        "    for line in tqdm(test_lines, desc='Evaluating'):\n",
        "        if not line.strip():\n",
        "            continue\n",
        "            \n",
        "        raw_sentence, correct_sentence = parse_holbrook_line_without_indexes(line)\n",
        "        \n",
        "        if (beam_width is None) or (n is None):\n",
        "            corrected_sentence = corrector_func(raw_sentence)\n",
        "        else:    \n",
        "            corrected_sentence = corrector_func(raw_sentence, beam_width=beam_width, n=n)\n",
        "        \n",
        "        S = Levenshtein(correct_sentence, corrected_sentence)\n",
        "        I = max(0, len(corrected_sentence) - len(correct_sentence))\n",
        "        D = max(0, len(correct_sentence) - len(corrected_sentence))\n",
        "\n",
        "        N = max(len(correct_sentence), len(corrected_sentence))\n",
        "\n",
        "        cer = (S + I + D) / N\n",
        "        total_cer += cer\n",
        "\n",
        "    return total_cer / num_sentences"
      ]
    },
    {
      "cell_type": "code",
      "execution_count": 31,
      "metadata": {},
      "outputs": [
        {
          "name": "stderr",
          "output_type": "stream",
          "text": [
            "Evaluating: 100%|██████████| 1057/1057 [00:46<00:00, 22.91it/s]"
          ]
        },
        {
          "name": "stdout",
          "output_type": "stream",
          "text": [
            "Norvig's WER: 0.10762286073408421\n"
          ]
        },
        {
          "name": "stderr",
          "output_type": "stream",
          "text": [
            "\n"
          ]
        }
      ],
      "source": [
        "cer_norvig = evaluate_cer(sentences, norvigs_correction)\n",
        "print(\"Norvig's WER:\", cer_norvig)"
      ]
    },
    {
      "cell_type": "code",
      "execution_count": 32,
      "metadata": {},
      "outputs": [
        {
          "name": "stderr",
          "output_type": "stream",
          "text": [
            "Evaluating:   0%|          | 0/1057 [00:00<?, ?it/s]"
          ]
        },
        {
          "name": "stderr",
          "output_type": "stream",
          "text": [
            "Evaluating: 100%|██████████| 1057/1057 [00:17<00:00, 60.83it/s] "
          ]
        },
        {
          "name": "stdout",
          "output_type": "stream",
          "text": [
            "NGram-based WER: 0.1183118795716616\n"
          ]
        },
        {
          "name": "stderr",
          "output_type": "stream",
          "text": [
            "\n"
          ]
        }
      ],
      "source": [
        "cer_ngram = evaluate_cer(sentences, my_correction, n=3, beam_width=best_beam_width)\n",
        "print(\"NGram-based WER:\", cer_ngram)"
      ]
    },
    {
      "cell_type": "markdown",
      "metadata": {},
      "source": [
        "### Comparing results"
      ]
    },
    {
      "cell_type": "code",
      "execution_count": 33,
      "metadata": {},
      "outputs": [
        {
          "name": "stdout",
          "output_type": "stream",
          "text": [
            "CER Improvement (Norvig's WER - NGram-based WER): -0.010689018837577391\n"
          ]
        }
      ],
      "source": [
        "improvement_cer = cer_norvig - cer_ngram\n",
        "print(\"CER Improvement (Norvig's WER - NGram-based WER):\", improvement_cer)"
      ]
    },
    {
      "cell_type": "markdown",
      "metadata": {},
      "source": [
        "**CER increased due to NGram algorithm found more errors than Norvigs**"
      ]
    },
    {
      "cell_type": "markdown",
      "metadata": {},
      "source": [
        "## Reporting Differences Between Algorithms\n",
        "\n",
        "Finally, we calculate the differences between the performance metrics (accuracy, WER, CER, etc.) of Norvig's corrector and our NGram-based corrector. These differences are printed out, providing a clear picture of how much our improvements have enhanced the overall spelling correction performance. This comparative analysis is crucial for validating the effectiveness of the context-sensitive approach.\n"
      ]
    }
  ],
  "metadata": {
    "colab": {
      "provenance": []
    },
    "kernelspec": {
      "display_name": ".venv",
      "language": "python",
      "name": "python3"
    },
    "language_info": {
      "codemirror_mode": {
        "name": "ipython",
        "version": 3
      },
      "file_extension": ".py",
      "mimetype": "text/x-python",
      "name": "python",
      "nbconvert_exporter": "python",
      "pygments_lexer": "ipython3",
      "version": "3.13.1"
    }
  },
  "nbformat": 4,
  "nbformat_minor": 0
}
